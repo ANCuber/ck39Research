{
 "cells": [
  {
   "cell_type": "code",
   "execution_count": null,
   "metadata": {},
   "outputs": [
    {
     "ename": "",
     "evalue": "",
     "output_type": "error",
     "traceback": [
      "\u001b[1;31mThe kernel died. View Jupyter <a href='command:jupyter.viewOutput'>log</a> for further details. \n",
      "Error: /usr/bin/python: No module named ipykernel_launcher..."
     ]
    }
   ],
   "source": [
    "! pip install torch\n",
    "\n",
    "#!pip install tokenizers\n",
    "#!pip install transformers"
   ]
  },
  {
   "cell_type": "code",
   "execution_count": null,
   "metadata": {},
   "outputs": [
    {
     "ename": "",
     "evalue": "",
     "output_type": "error",
     "traceback": [
      "\u001b[1;31mThe kernel died. View Jupyter <a href='command:jupyter.viewOutput'>log</a> for further details. \n",
      "Error: /usr/bin/python: No module named ipykernel_launcher..."
     ]
    },
    {
     "ename": "",
     "evalue": "",
     "output_type": "error",
     "traceback": [
      "\u001b[1;31mThe kernel died. View Jupyter <a href='command:jupyter.viewOutput'>log</a> for further details. \n",
      "Error: /usr/bin/python: No module named ipykernel_launcher..."
     ]
    },
    {
     "ename": "",
     "evalue": "",
     "output_type": "error",
     "traceback": [
      "\u001b[1;31mThe kernel died. View Jupyter <a href='command:jupyter.viewOutput'>log</a> for further details. \n",
      "Error: /usr/bin/python: No module named ipykernel_launcher..."
     ]
    },
    {
     "ename": "",
     "evalue": "",
     "output_type": "error",
     "traceback": [
      "\u001b[1;31mThe kernel died. View Jupyter <a href='command:jupyter.viewOutput'>log</a> for further details. \n",
      "Error: /usr/bin/python: No module named ipykernel_launcher..."
     ]
    }
   ],
   "source": [
    "# Load the tokenizer\n",
    "from transformers import BertTokenizer, LineByLineTextDataset\n",
    "import tokenizers\n",
    "\n",
    "tokenizer = BertTokenizer.from_pretrained(\"bert-base-cased\")\n",
    "'''\n",
    "special token\n",
    "'''\n",
    "#latex command\n",
    "tokenizer.add_tokens([\"frac\",\"addcontentsline \", \"addtocontents \", \"addtocounter \", \"address \", \"addtolength \", \"addvspace \", \"alph \", \"appendix \", \"arabic \", \"author \", \"backslash \", \"baselineskip \", \"baselinestretch \", \"bf \", \"bibitem \", \"bigskip \", \"boldmath \", \"cal \", \"caption \", \"cdots \", \"centering \", \"circle \", \"cite \", \"cleardoublepage \", \"clearpage \", \"cline \", \"closing \", \"dashbox \", \"date \", \"ddots \", \"dotfill \", \"em \", \"fbox \", \"flushbottom \", \"fnsymbol \", \"footnote \", \"footnotemark \", \"footnotesize \", \"footnotetext \", \"frac \", \"frame \", \"framebox \", \"frenchspacing \", \"hfill \", \"hline \", \"hrulefill \", \"hspace \", \"huge \", \"hyphenation \", \"include \", \"includeonly \", \"indent \", \"input \", \"it \", \"item \", \"kill \", \"label \", \"large \", \"LARGE (all caps) \", \"ldots \", \"left \", \"lefteqn \", \"line \", \"linebreak \", \"linethickness \", \"linewidth \", \"location \", \"makebox \", \"maketitle \", \"mathcal \", \"mathop \", \"mbox \", \"medskip \", \"multicolumn \", \"multiput \", \"newcommand \", \"newcounter \", \"newenvironment \", \"newfont \", \"newlength \", \"newline \", \"newpage \", \"newsavebox \", \"newtheorem \", \"nocite \", \"noindent \", \"nolinebreak \", \"nopagebreak \", \"not \", \"onecolumn \", \"opening \", \"oval \", \"overbrace \", \"overline \", \"pagebreak \", \"pagenumbering \", \"pageref \", \"pagestyle \", \"par \", \"parbox \", \"parindent \", \"parskip \", \"protect \", \"put \", \"raggedbottom \", \"raggedleft \", \"raggedright \", \"raisebox \", \"ref \", \"renewcommand \", \"right \", \"rm \", \"roman \", \"rule \", \"savebox \", \"sbox \", \"sc \", \"scriptsize \", \"setcounter \", \"setlength \", \"settowidth \", \"sf \", \"shortstack \", \"signature \", \"sl \", \"small \", \"smallskip \", \"sqrt \", \"stackrel \", \"tableofcontents \", \"telephone \", \"textwidth \", \"textheight \", \"thanks \", \"thispagestyle \", \"tiny \", \"title \", \"today \", \"tt \", \"twocolumn \", \"typeout \", \"typein \", \"underbrace \", \"underline \", \"unitlength \", \"usebox \", \"usecounter \", \"value \", \"vdots \", \"vector \", \"verb \", \"vfill \", \"vline \", \"vphantom \", \"vspace\"])\n",
    "# var list\n",
    "for i in range(1,51):\n",
    "    tokenizer.add_tokens([\"[var{}]\".format(i)])\n",
    "# puncuation\n",
    "tokenizer.add_tokens([\"[\",\"[Plmb]\",\"]\",\"[Prmb]\",\" \",\"[Pspa]\",\"^\",\"[Pexp]\",\"+\",\"[Pplu]\",\"-\",\"[Pmin]\",\"(\",\"[Plsb]\",\")\",\"[Prsb]\",\"/\",\"[Pdiv]\",\",\",\"[Plbb]\",\",\",\"[Prbb]\",\"\\\\\",\"[Pbeg]\",\"=\",\"[Peql]\",\"<\",\"[Ples]\",\">\",\"[Pbgr]\",\",\",\"[Pcol]\",\"!\",\"[Pexc]\",\"_\",\"[Psub]\",\",\",\"[Pcom]\"])\n",
    "sentence = r'\\frac{2}{3}'\n",
    "\n",
    "encoded_input = tokenizer.tokenize(sentence)\n",
    "print(encoded_input)"
   ]
  },
  {
   "cell_type": "code",
   "execution_count": null,
   "metadata": {},
   "outputs": [
    {
     "ename": "",
     "evalue": "",
     "output_type": "error",
     "traceback": [
      "\u001b[1;31mThe kernel died. View Jupyter <a href='command:jupyter.viewOutput'>log</a> for further details. \n",
      "Error: /usr/bin/python: No module named ipykernel_launcher..."
     ]
    },
    {
     "ename": "",
     "evalue": "",
     "output_type": "error",
     "traceback": [
      "\u001b[1;31mThe kernel died. View Jupyter <a href='command:jupyter.viewOutput'>log</a> for further details. \n",
      "Error: /usr/bin/python: No module named ipykernel_launcher..."
     ]
    },
    {
     "ename": "",
     "evalue": "",
     "output_type": "error",
     "traceback": [
      "\u001b[1;31mThe kernel died. View Jupyter <a href='command:jupyter.viewOutput'>log</a> for further details. \n",
      "Error: /usr/bin/python: No module named ipykernel_launcher..."
     ]
    },
    {
     "ename": "",
     "evalue": "",
     "output_type": "error",
     "traceback": [
      "\u001b[1;31mThe kernel died. View Jupyter <a href='command:jupyter.viewOutput'>log</a> for further details. \n",
      "Error: /usr/bin/python: No module named ipykernel_launcher..."
     ]
    }
   ],
   "source": [
    "dataset = LineByLineTextDataset(\n",
    "    tokenizer = tokenizer,\n",
    "    file_path = '/content/drive/MyDrive/Colab Notebooks/saved/Latex_pretraining/processed.txt',\n",
    "    block_size = 256 # maximum sequence length\n",
    ")\n",
    "\n",
    "testdata = LineByLineTextDataset(\n",
    "    tokenizer = tokenizer,\n",
    "    file_path = '/content/drive/MyDrive/Colab Notebooks/saved/Latex_pretraining/eval.txt',\n",
    "    block_size = 256 # maximum sequence length\n",
    ")"
   ]
  },
  {
   "cell_type": "code",
   "execution_count": null,
   "metadata": {},
   "outputs": [
    {
     "ename": "",
     "evalue": "",
     "output_type": "error",
     "traceback": [
      "\u001b[1;31mThe kernel died. View Jupyter <a href='command:jupyter.viewOutput'>log</a> for further details. \n",
      "Error: /usr/bin/python: No module named ipykernel_launcher..."
     ]
    },
    {
     "ename": "",
     "evalue": "",
     "output_type": "error",
     "traceback": [
      "\u001b[1;31mThe kernel died. View Jupyter <a href='command:jupyter.viewOutput'>log</a> for further details. \n",
      "Error: /usr/bin/python: No module named ipykernel_launcher..."
     ]
    },
    {
     "ename": "",
     "evalue": "",
     "output_type": "error",
     "traceback": [
      "\u001b[1;31mThe kernel died. View Jupyter <a href='command:jupyter.viewOutput'>log</a> for further details. \n",
      "Error: /usr/bin/python: No module named ipykernel_launcher..."
     ]
    },
    {
     "ename": "",
     "evalue": "",
     "output_type": "error",
     "traceback": [
      "\u001b[1;31mThe kernel died. View Jupyter <a href='command:jupyter.viewOutput'>log</a> for further details. \n",
      "Error: /usr/bin/python: No module named ipykernel_launcher..."
     ]
    }
   ],
   "source": [
    "from transformers import BertConfig, BertForMaskedLM, DataCollatorForLanguageModeling\n",
    "\n",
    "config = BertConfig(\n",
    "    vocab_size=50000,\n",
    "    hidden_size=768, \n",
    "    num_hidden_layers=6, \n",
    "    num_attention_heads=12,\n",
    "    max_position_embeddings=512\n",
    ")\n",
    " \n",
    "model = BertForMaskedLM(config)\n",
    "\n",
    "data_collator = DataCollatorForLanguageModeling(\n",
    "    tokenizer=tokenizer, mlm=True, mlm_probability=0.15\n",
    ")"
   ]
  },
  {
   "cell_type": "code",
   "execution_count": null,
   "metadata": {},
   "outputs": [
    {
     "ename": "",
     "evalue": "",
     "output_type": "error",
     "traceback": [
      "\u001b[1;31mThe kernel died. View Jupyter <a href='command:jupyter.viewOutput'>log</a> for further details. \n",
      "Error: /usr/bin/python: No module named ipykernel_launcher..."
     ]
    },
    {
     "ename": "",
     "evalue": "",
     "output_type": "error",
     "traceback": [
      "\u001b[1;31mThe kernel died. View Jupyter <a href='command:jupyter.viewOutput'>log</a> for further details. \n",
      "Error: /usr/bin/python: No module named ipykernel_launcher..."
     ]
    },
    {
     "ename": "",
     "evalue": "",
     "output_type": "error",
     "traceback": [
      "\u001b[1;31mThe kernel died. View Jupyter <a href='command:jupyter.viewOutput'>log</a> for further details. \n",
      "Error: /usr/bin/python: No module named ipykernel_launcher..."
     ]
    },
    {
     "ename": "",
     "evalue": "",
     "output_type": "error",
     "traceback": [
      "\u001b[1;31mThe kernel died. View Jupyter <a href='command:jupyter.viewOutput'>log</a> for further details. \n",
      "Error: /usr/bin/python: No module named ipykernel_launcher..."
     ]
    }
   ],
   "source": [
    "from transformers import Trainer, TrainingArguments\n",
    "\n",
    "training_args = TrainingArguments(\n",
    "    output_dir='/content/drive/MyDrive/Colab Notebooks/saved/Latex_pretraining/',\n",
    "    overwrite_output_dir=True,\n",
    "    num_train_epochs=2,\n",
    "    per_device_train_batch_size=32,\n",
    "    save_steps=10_00,\n",
    "    save_total_limit=2,\n",
    ")\n",
    "\n",
    "trainer = Trainer(\n",
    "    model=model,\n",
    "    args=training_args,\n",
    "    data_collator=data_collator,\n",
    "    train_dataset=dataset,\n",
    "    eval_dataset=testdata,\n",
    "    #prediction_loss_only=True,\n",
    ")"
   ]
  },
  {
   "cell_type": "code",
   "execution_count": null,
   "metadata": {},
   "outputs": [
    {
     "ename": "",
     "evalue": "",
     "output_type": "error",
     "traceback": [
      "\u001b[1;31mThe kernel died. View Jupyter <a href='command:jupyter.viewOutput'>log</a> for further details. \n",
      "Error: /usr/bin/python: No module named ipykernel_launcher..."
     ]
    },
    {
     "ename": "",
     "evalue": "",
     "output_type": "error",
     "traceback": [
      "\u001b[1;31mThe kernel died. View Jupyter <a href='command:jupyter.viewOutput'>log</a> for further details. \n",
      "Error: /usr/bin/python: No module named ipykernel_launcher..."
     ]
    },
    {
     "ename": "",
     "evalue": "",
     "output_type": "error",
     "traceback": [
      "\u001b[1;31mThe kernel died. View Jupyter <a href='command:jupyter.viewOutput'>log</a> for further details. \n",
      "Error: /usr/bin/python: No module named ipykernel_launcher..."
     ]
    },
    {
     "ename": "",
     "evalue": "",
     "output_type": "error",
     "traceback": [
      "\u001b[1;31mThe kernel died. View Jupyter <a href='command:jupyter.viewOutput'>log</a> for further details. \n",
      "Error: /usr/bin/python: No module named ipykernel_launcher..."
     ]
    }
   ],
   "source": [
    "trainer.train()"
   ]
  },
  {
   "cell_type": "code",
   "execution_count": null,
   "metadata": {},
   "outputs": [
    {
     "ename": "",
     "evalue": "",
     "output_type": "error",
     "traceback": [
      "\u001b[1;31mThe kernel died. View Jupyter <a href='command:jupyter.viewOutput'>log</a> for further details. \n",
      "Error: /usr/bin/python: No module named ipykernel_launcher..."
     ]
    },
    {
     "ename": "",
     "evalue": "",
     "output_type": "error",
     "traceback": [
      "\u001b[1;31mThe kernel died. View Jupyter <a href='command:jupyter.viewOutput'>log</a> for further details. \n",
      "Error: /usr/bin/python: No module named ipykernel_launcher..."
     ]
    },
    {
     "ename": "",
     "evalue": "",
     "output_type": "error",
     "traceback": [
      "\u001b[1;31mThe kernel died. View Jupyter <a href='command:jupyter.viewOutput'>log</a> for further details. \n",
      "Error: /usr/bin/python: No module named ipykernel_launcher..."
     ]
    },
    {
     "ename": "",
     "evalue": "",
     "output_type": "error",
     "traceback": [
      "\u001b[1;31mThe kernel died. View Jupyter <a href='command:jupyter.viewOutput'>log</a> for further details. \n",
      "Error: /usr/bin/python: No module named ipykernel_launcher..."
     ]
    }
   ],
   "source": [
    "trainer.save_model('/content/drive/MyDrive/Colab Notebooks/saved/Latex_pretrained/')\n",
    "trainer.evaluate()"
   ]
  }
 ],
 "metadata": {
  "kernelspec": {
   "display_name": "Python 3.10.8 64-bit",
   "language": "python",
   "name": "python3"
  },
  "language_info": {
   "name": "python",
   "version": "3.10.8"
  },
  "orig_nbformat": 4,
  "vscode": {
   "interpreter": {
    "hash": "8a94588eda9d64d9e9a351ab8144e55b1fabf5113b54e67dd26a8c27df0381b3"
   }
  }
 },
 "nbformat": 4,
 "nbformat_minor": 2
}
